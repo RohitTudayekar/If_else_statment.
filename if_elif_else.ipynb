{
  "nbformat": 4,
  "nbformat_minor": 0,
  "metadata": {
    "colab": {
      "name": "if_elif_else.ipynb",
      "provenance": [],
      "collapsed_sections": [],
      "authorship_tag": "ABX9TyPpjLOy/kMtKZ5WX4Zx9Yjq",
      "include_colab_link": true
    },
    "kernelspec": {
      "name": "python3",
      "display_name": "Python 3"
    },
    "language_info": {
      "name": "python"
    }
  },
  "cells": [
    {
      "cell_type": "markdown",
      "metadata": {
        "id": "view-in-github",
        "colab_type": "text"
      },
      "source": [
        "<a href=\"https://colab.research.google.com/github/RohitTudayekar/If_else_statment./blob/main/if_elif_else.ipynb\" target=\"_parent\"><img src=\"https://colab.research.google.com/assets/colab-badge.svg\" alt=\"Open In Colab\"/></a>"
      ]
    },
    {
      "cell_type": "code",
      "execution_count": null,
      "metadata": {
        "id": "9u6WWuvwAIDb"
      },
      "outputs": [],
      "source": [
        "take a two  numbers from the users x and Y compare the two number and  display the larger out of two numbers"
      ]
    },
    {
      "cell_type": "markdown",
      "source": [
        ""
      ],
      "metadata": {
        "id": "LLeVcDR0AXNY"
      }
    },
    {
      "cell_type": "code",
      "source": [
        "x=int(input(\"enter a number of x \"))\n",
        "y=int(input(\"enter a number of y \"))\n",
        "if x>y:\n",
        "  print(\" x is larger number\",)\n",
        "else:\n",
        "  print(\"y is is greater\",)"
      ],
      "metadata": {
        "colab": {
          "base_uri": "https://localhost:8080/"
        },
        "id": "gcjzYmhRAXYf",
        "outputId": "6ecd37b3-315f-49b6-b623-6a2c5c3f8b91"
      },
      "execution_count": null,
      "outputs": [
        {
          "output_type": "stream",
          "name": "stdout",
          "text": [
            "enter a number of x 5\n",
            "enter a number of y 5\n",
            "y is is greater\n"
          ]
        }
      ]
    },
    {
      "cell_type": "code",
      "source": [
        "  x=int(input('enter a number of x '))\n",
        "  y=int(input('enetr a number of y '))\n",
        "  if x>y:\n",
        "    print('x is greater ')\n",
        "  \n",
        "  elif x==y:\n",
        "    print('both are equal')\n",
        "  \n",
        "  else:\n",
        "    print('y is greater')\n",
        "    "
      ],
      "metadata": {
        "colab": {
          "base_uri": "https://localhost:8080/"
        },
        "id": "nTT5luhGQuFu",
        "outputId": "5e68e673-7f9b-457f-f064-2234ec92f97d"
      },
      "execution_count": null,
      "outputs": [
        {
          "output_type": "stream",
          "name": "stdout",
          "text": [
            "enter a number of x 9\n",
            "enetr a number of y 9\n",
            "both are equal\n"
          ]
        }
      ]
    },
    {
      "cell_type": "markdown",
      "source": [
        "take a list from users and find a which is odd number,even number and zero numbers"
      ],
      "metadata": {
        "id": "Z8ij06_iSWkr"
      }
    },
    {
      "cell_type": "code",
      "source": [
        "list=[5,8,15,14,20,16,148,575,11,13,145,5845,46,3,0,]"
      ],
      "metadata": {
        "id": "ffGBHUisSlfT"
      },
      "execution_count": null,
      "outputs": []
    },
    {
      "cell_type": "code",
      "source": [
        "if i in range list()\n",
        "even_number"
      ],
      "metadata": {
        "id": "yiu90riiS5NL"
      },
      "execution_count": null,
      "outputs": []
    },
    {
      "cell_type": "markdown",
      "source": [
        "in a fare, entry fee for children less than 4 yrs of age is zero,the fee for children in betwwn the age 4-15 is 100 rs, and fees for people more than 15 yrs of age is 175 rs take age as input from users and dsiplay asscoiated fee for the children"
      ],
      "metadata": {
        "id": "0brNaND1Tk1K"
      }
    },
    {
      "cell_type": "code",
      "source": [
        "age=int(input(\"enter a age of children\"))\n",
        "if age<4:\n",
        "  fee=0\n",
        "\n",
        "elif  4 <=age<= 15:\n",
        "  fee=100\n",
        "    \n",
        "else:\n",
        "  fee=175\n",
        "print('you have to pay fee rs',fee,'INR')\n"
      ],
      "metadata": {
        "colab": {
          "base_uri": "https://localhost:8080/"
        },
        "id": "45ldv09OUETL",
        "outputId": "8ed53a9e-fada-41cd-c0de-3099dee5aaf7"
      },
      "execution_count": null,
      "outputs": [
        {
          "output_type": "stream",
          "name": "stdout",
          "text": [
            "enter a age of children15\n",
            "you have to pay fee rs 100 INR\n"
          ]
        }
      ]
    },
    {
      "cell_type": "markdown",
      "source": [
        "NESTED IF STATEMENTS:"
      ],
      "metadata": {
        "id": "7xHCb_zfaQc5"
      }
    },
    {
      "cell_type": "code",
      "source": [
        "x=int(input('enter a x value'))\n",
        "\n",
        "if x>10:\n",
        "    if x>20:\n",
        "      print('x is greater than 20')\n",
        "\n",
        "    elif  x==20:\n",
        "      print('x is equal to 20 ')\n",
        "\n",
        "    else:\n",
        "      print('x is greater than 10 but less than 20 ')\n",
        "else:\n",
        "  print('x is less than 10 ')"
      ],
      "metadata": {
        "colab": {
          "base_uri": "https://localhost:8080/"
        },
        "id": "y8jXfF-abSlh",
        "outputId": "79b07d47-d8c9-4489-815d-6b4c52d370e9"
      },
      "execution_count": null,
      "outputs": [
        {
          "output_type": "stream",
          "name": "stdout",
          "text": [
            "enter a x value50\n",
            "x is greater than 20\n"
          ]
        }
      ]
    },
    {
      "cell_type": "markdown",
      "source": [
        "take a number from users and display if it positive or negative or zero"
      ],
      "metadata": {
        "id": "29E1JvN_dfUA"
      }
    },
    {
      "cell_type": "code",
      "source": [
        "x=int(input(\"enter a number\"))\n",
        "if x>=0:\n",
        "  if x<0:\n",
        "    print(\"x is -ve\")\n",
        "  else:\n",
        "    print(\"x is zero\")\n",
        "else:\n",
        "  print(\"x is -ve\")"
      ],
      "metadata": {
        "colab": {
          "base_uri": "https://localhost:8080/"
        },
        "id": "DAFtWgdLySZO",
        "outputId": "af7cae36-f509-4c24-fece-adb8cf5ad0b2"
      },
      "execution_count": null,
      "outputs": [
        {
          "output_type": "stream",
          "name": "stdout",
          "text": [
            "enter a number0\n",
            "x is zero\n"
          ]
        }
      ]
    },
    {
      "cell_type": "code",
      "source": [
        "x=int(input('enter a number'))\n",
        "\n",
        "if x>0:\n",
        "  print('x is +ve')\n",
        "\n",
        "elif x==0:\n",
        "  print('x is zero')\n",
        "\n",
        "else:\n",
        "  print('x is -ve')"
      ],
      "metadata": {
        "colab": {
          "base_uri": "https://localhost:8080/"
        },
        "id": "_zGx6XJZdp6Q",
        "outputId": "eb05a761-e727-4955-f193-c49b917738d8"
      },
      "execution_count": null,
      "outputs": [
        {
          "output_type": "stream",
          "name": "stdout",
          "text": [
            "enter a number0\n",
            "x is zero\n"
          ]
        }
      ]
    },
    {
      "cell_type": "code",
      "source": [
        "x=int(input('enter a number '))\n",
        "\n",
        "if x>=0:\n",
        "\n",
        "  if x>0:\n",
        "    print('x is +ve')\n",
        "\n",
        "  else:\n",
        "    print('x is zero')\n",
        "    \n",
        "else:\n",
        "  print('x is -ve')"
      ],
      "metadata": {
        "colab": {
          "base_uri": "https://localhost:8080/"
        },
        "id": "2uOu8rb0fJhg",
        "outputId": "bd97ce13-ccd7-49b6-efd3-589ba1953917"
      },
      "execution_count": null,
      "outputs": [
        {
          "output_type": "stream",
          "name": "stdout",
          "text": [
            "enter a number -14\n",
            "x is -ve\n"
          ]
        }
      ]
    },
    {
      "cell_type": "markdown",
      "source": [
        "A company decided to give bonus of 5% to employee if his/her year of service is more than 5 years.\n",
        "Ask user for their salary and year of service and print the net bonus amount."
      ],
      "metadata": {
        "id": "P49ci6TmhcNX"
      }
    },
    {
      "cell_type": "code",
      "source": [
        "salary=int(input('enter a salary '))\n",
        "year=int(input('enter a year of serive'))\n",
        "\n",
        "if year>5:\n",
        "  bonus=0.5*salary\n",
        "  net_bonus_salary=salary +bonus\n",
        "  print('net bonus of salary ',net_bonus_salary)\n",
        "else:\n",
        "  print('no bonus better luck next time')"
      ],
      "metadata": {
        "colab": {
          "base_uri": "https://localhost:8080/"
        },
        "id": "HpopcNJohf8e",
        "outputId": "2b5ef165-baed-4d15-91fe-646fbd54b46b"
      },
      "execution_count": null,
      "outputs": [
        {
          "output_type": "stream",
          "name": "stdout",
          "text": [
            "enter a salary 14500\n",
            "enter a year of serive4\n",
            "no bonus better luck next time\n"
          ]
        }
      ]
    },
    {
      "cell_type": "markdown",
      "source": [
        "Take values of length and breadth of a rectangle from user and check if it is square or not."
      ],
      "metadata": {
        "id": "QnPWaM7xkrsH"
      }
    },
    {
      "cell_type": "code",
      "source": [
        "x=int(input('enter a length'))\n",
        "y=int(input('enter a breadth'))\n",
        "\n",
        "if x==y:\n",
        "  print('its a sqaure')\n",
        "else:\n",
        "    print('its a rectange')"
      ],
      "metadata": {
        "colab": {
          "base_uri": "https://localhost:8080/"
        },
        "id": "IXLk1H7BkuSm",
        "outputId": "07b465c6-b679-4fd5-b748-7337864bdbe9"
      },
      "execution_count": null,
      "outputs": [
        {
          "output_type": "stream",
          "name": "stdout",
          "text": [
            "enter a length9\n",
            "enter a breadth10\n",
            "its a rectange\n"
          ]
        }
      ]
    },
    {
      "cell_type": "markdown",
      "source": [
        "A shop will give discount of 10% if the cost of purchased quantity is more than 1000.\n",
        "Ask user for quantity\n",
        "Suppose, one unit will cost 100.\n",
        "Judge and print total cost for user."
      ],
      "metadata": {
        "id": "EhG17SFglS82"
      }
    },
    {
      "cell_type": "code",
      "source": [
        "q=int(input('enter a quantity'))\n",
        "cost=100\n",
        "if q>=1000:\n",
        "  discount=0.10*cost\n",
        "  print('you will get discount',discount)\n",
        "else:\n",
        "  print('sorry you dont have any discount')\n"
      ],
      "metadata": {
        "colab": {
          "base_uri": "https://localhost:8080/"
        },
        "id": "PoRdUo4Qlb5e",
        "outputId": "6f274586-8f1e-4df9-dcad-6339dafaf0b0"
      },
      "execution_count": null,
      "outputs": [
        {
          "output_type": "stream",
          "name": "stdout",
          "text": [
            "enter a quantity1000\n",
            "you will get discount 10.0\n"
          ]
        }
      ]
    },
    {
      "cell_type": "markdown",
      "source": [
        "Take input of age of 3 people by user and determine oldest and youngest among them"
      ],
      "metadata": {
        "id": "2lhRzhZtm22u"
      }
    },
    {
      "cell_type": "code",
      "source": [
        "x=int(input('enter first age'))\n",
        "y=int(input('enter second age'))\n",
        "z=int(input('enter a third age'))\n",
        "\n",
        "if x>y and x>z:\n",
        "  print('he is youngest',x)\n",
        "\n",
        "elif y>z and y>x:\n",
        "    print('he is youngest',y)\n",
        "elif z>x and z>y:\n",
        "\n",
        "    print('he is youngest',z)\n",
        "else:\n",
        "  print('all are same age')"
      ],
      "metadata": {
        "colab": {
          "base_uri": "https://localhost:8080/"
        },
        "id": "qXz1KQW3m3zO",
        "outputId": "77cf1cd7-31f1-43db-cb9d-1e33f78984c4"
      },
      "execution_count": null,
      "outputs": [
        {
          "output_type": "stream",
          "name": "stdout",
          "text": [
            "enter first age5\n",
            "enter second age1\n",
            "enter a third age2\n",
            "he is youngest 5\n"
          ]
        }
      ]
    },
    {
      "cell_type": "markdown",
      "source": [
        "A student will not be allowed to sit in exam if his/her attendence is less than 75%.\n",
        "Take following input from user\n",
        "Number of classes held\n",
        "Number of classes attended.\n",
        "And print\n",
        "percentage of class attended\n",
        "Is student is allowed to sit in exam or not."
      ],
      "metadata": {
        "id": "Dd7d8yb7o9dt"
      }
    },
    {
      "cell_type": "code",
      "source": [
        "n=int(input('number of classes held '))\n",
        "na=int(input('enter a number of claases attend'))\n",
        "\n",
        "attendance=(na/n)*100\n",
        "\n",
        "if attendance>=75:\n",
        "    print('he/she will  allowed to sit in exam ')\n",
        "\n",
        "else:\n",
        "  print('he/she will not allowed to sit in exam ')\n"
      ],
      "metadata": {
        "colab": {
          "base_uri": "https://localhost:8080/"
        },
        "id": "AMVYr8z5pKSl",
        "outputId": "ebcb14d8-33f5-4d88-a1d4-db8f7cd6d9bf"
      },
      "execution_count": null,
      "outputs": [
        {
          "output_type": "stream",
          "name": "stdout",
          "text": [
            "number of classes held 12\n",
            "enter a number of claases attend08\n",
            "he/she will not allowed to sit in exam \n"
          ]
        }
      ]
    },
    {
      "cell_type": "markdown",
      "source": [
        "the given number is divisible by 5 or not."
      ],
      "metadata": {
        "id": "f9eLzGBstTYa"
      }
    },
    {
      "cell_type": "code",
      "source": [
        "x=int(input('enter a number'))\n",
        "if x%5==0:\n",
        "  print('it is divisible by 5')\n",
        "else:\n",
        "    print('it is not divisible by5')"
      ],
      "metadata": {
        "colab": {
          "base_uri": "https://localhost:8080/"
        },
        "id": "hnNLTohjtWan",
        "outputId": "11937f1e-5e06-4411-8bf3-88af20febd34"
      },
      "execution_count": null,
      "outputs": [
        {
          "output_type": "stream",
          "name": "stdout",
          "text": [
            "enter a number5\n",
            "it is divisible by 5\n"
          ]
        }
      ]
    },
    {
      "cell_type": "markdown",
      "source": [
        "Find minimum number out of given three numbers."
      ],
      "metadata": {
        "id": "n4QSYJ4Qt9Ut"
      }
    },
    {
      "cell_type": "code",
      "source": [
        "n1=int(input('enter a number n1 '))\n",
        "n2=int(input('enter a number n2 '))\n",
        "n3=int(input('enter a number n3 '))\n",
        "\n",
        "if n1<n2 and n1<n3:\n",
        "  print('n1 is minimum',n1)\n",
        "\n",
        "elif n2<n3 and n2<n3:\n",
        "    print('n2 is minimum',n2)\n",
        "\n",
        "elif n3<n2 and n3<n1:\n",
        "    print('n3 is minimum',n3)\n",
        "\n",
        "else:\n",
        "  print('all are same')"
      ],
      "metadata": {
        "colab": {
          "base_uri": "https://localhost:8080/"
        },
        "id": "yOK1EzVtt-0T",
        "outputId": "501d8db2-8574-439f-9a91-b6c752acf043"
      },
      "execution_count": null,
      "outputs": [
        {
          "output_type": "stream",
          "name": "stdout",
          "text": [
            "enter a number n1 45\n",
            "enter a number n2 78\n",
            "enter a number n3 94\n",
            "n1 is minimum 45\n"
          ]
        }
      ]
    },
    {
      "cell_type": "code",
      "source": [
        "a=input(\"enter your aplhabet \")\n",
        "if a in ('a','e','i','o','u'):\n",
        "    print(\"is a vowel\")\n",
        "\n",
        "elif a=='h' or a=='y':\n",
        "    print(\"exception\")\n",
        "    \n",
        "else:\n",
        "    print('is a consonant')"
      ],
      "metadata": {
        "id": "csFOZJOSpSEV",
        "outputId": "6de0695b-b837-4732-d8e5-aeef83f92e51",
        "colab": {
          "base_uri": "https://localhost:8080/"
        }
      },
      "execution_count": null,
      "outputs": [
        {
          "output_type": "stream",
          "name": "stdout",
          "text": [
            "enter your aplhabet k\n",
            "is a consonant\n"
          ]
        }
      ]
    },
    {
      "cell_type": "markdown",
      "source": [
        " Write a program to calculate the electricity bill (accept number of unit from user) according to the following criteria :\n",
        "             Unit                                                     Price  \n",
        "First 100 units                                               no charge\n",
        "Next 100 units                                              Rs 5 per unit\n",
        "After 200 units                                             Rs 10 per unit\n",
        "(For example if input unit is 350 than total bill amount is Rs2000)\n",
        "Show Answer"
      ],
      "metadata": {
        "id": "LHTaNNTf1NhO"
      }
    },
    {
      "cell_type": "code",
      "source": [
        "x=int(input('enter a number of unit'))\n",
        "bill=0\n",
        "if x<=100:\n",
        "  bill=0\n",
        "elif 100<x<200:\n",
        "  bill=(x-100)*5\n",
        "else:\n",
        "  bill=500+(x-200)*10\n",
        "print(\"electricity bill is\",bill)"
      ],
      "metadata": {
        "colab": {
          "base_uri": "https://localhost:8080/"
        },
        "id": "ZSTFWZPp1POe",
        "outputId": "448d4bed-895d-483e-fd07-c11168feb458"
      },
      "execution_count": null,
      "outputs": [
        {
          "output_type": "stream",
          "name": "stdout",
          "text": [
            "enter a number of unit350\n",
            "electricity bill is 2000\n"
          ]
        }
      ]
    },
    {
      "cell_type": "markdown",
      "source": [
        "Write a program to check whether the last digit of a number( entered by user ) is \n",
        "divisible by 3 or not."
      ],
      "metadata": {
        "id": "JqRbrdkd4ybd"
      }
    },
    {
      "cell_type": "code",
      "source": [
        "num=int(input(\"Enter any number\"))\n",
        "ld=num%10\n",
        "if ld%3==0:\n",
        "     print(\"Last digit of number is divisible by 3 \")\n",
        "else:\n",
        "     print(\"Last digit of number is not divisible by 3 \")"
      ],
      "metadata": {
        "colab": {
          "base_uri": "https://localhost:8080/"
        },
        "id": "WOram4e15fuE",
        "outputId": "a570b24e-865d-4038-d996-58e5366c8fe9"
      },
      "execution_count": null,
      "outputs": [
        {
          "output_type": "stream",
          "name": "stdout",
          "text": [
            "Enter any number15\n",
            "Last digit of number is not divisible by 3 \n"
          ]
        }
      ]
    },
    {
      "cell_type": "markdown",
      "source": [
        "\n",
        "Q8. Write the logical expression for the following:\n",
        "A is greater than B and C is greater than D"
      ],
      "metadata": {
        "id": "XULnG6BZ6a2E"
      }
    },
    {
      "cell_type": "markdown",
      "source": [
        " Write a program to check whether a person is eligible for voting or not.(voting age >=18)"
      ],
      "metadata": {
        "id": "lsiif4Ks60GE"
      }
    },
    {
      "cell_type": "code",
      "source": [
        "x=int(input(\"enter a age of person\"))\n",
        "if x>=18:\n",
        "  print(\"He/she will be eligible for vote\")\n",
        "else:\n",
        "  print(\"he/she will not be eligible for vote\")"
      ],
      "metadata": {
        "colab": {
          "base_uri": "https://localhost:8080/"
        },
        "id": "n5L_OsTI61w1",
        "outputId": "7fb7841b-ff04-4d89-d297-afcd6d153cf1"
      },
      "execution_count": null,
      "outputs": [
        {
          "output_type": "stream",
          "name": "stdout",
          "text": [
            "enter a age of person10\n",
            "he/she will not be eligible for vote\n"
          ]
        }
      ]
    }
  ]
}